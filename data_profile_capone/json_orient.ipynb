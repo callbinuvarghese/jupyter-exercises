{
 "cells": [
  {
   "cell_type": "markdown",
   "id": "2942c6b3-e53d-4a16-b347-f96561857f1a",
   "metadata": {},
   "source": [
    "JSON Parsing with different Orient"
   ]
  },
  {
   "cell_type": "code",
   "execution_count": 2,
   "id": "6ec1b4a2-9770-4dbf-9dd8-81affc69702e",
   "metadata": {},
   "outputs": [
    {
     "name": "stdout",
     "output_type": "stream",
     "text": [
      "{\"Name\":{\"0\":\"Nik\",\"1\":\"Kate\",\"2\":\"Isla\"},\"Age\":{\"0\":33.0,\"1\":null,\"2\":37.0},\"Sales\":{\"0\":33.33,\"1\":56.32,\"2\":43.44444}}\n"
     ]
    }
   ],
   "source": [
    "# Convert a Pandas DataFrame to a JSON String\n",
    "import pandas as pd\n",
    "import numpy as np\n",
    "# Python Struct to data frame\n",
    "df = pd.DataFrame({'Name': ['Nik', 'Kate', 'Isla'], \n",
    "                   'Age': [33, np.NaN, 37], \n",
    "                   'Sales': [33.33, 56.32, 43.44444]})\n",
    "\n",
    "json_string = df.to_json()\n",
    "print(json_string)"
   ]
  },
  {
   "cell_type": "code",
   "execution_count": 3,
   "id": "c6d8d5f9-27a5-41d5-898b-a0aec818784d",
   "metadata": {},
   "outputs": [
    {
     "name": "stdout",
     "output_type": "stream",
     "text": [
      "{\"Name\":{\"0\":\"Nik\",\"1\":\"Kate\",\"2\":\"Isla\"},\"Age\":{\"0\":33.0,\"1\":null,\"2\":37.0},\"Sales\":{\"0\":33.33,\"1\":56.32,\"2\":43.44444}}\n"
     ]
    }
   ],
   "source": [
    "# Convert a Pandas DataFrame to a JSON String with Default Orient\n",
    "json_string = df.to_json()\n",
    "print(json_string)\n"
   ]
  },
  {
   "cell_type": "code",
   "execution_count": 4,
   "id": "d60ba936-95e3-4716-b3f8-b327f18b1799",
   "metadata": {},
   "outputs": [
    {
     "name": "stdout",
     "output_type": "stream",
     "text": [
      "[{\"Name\":\"Nik\",\"Age\":33.0,\"Sales\":33.33},{\"Name\":\"Kate\",\"Age\":null,\"Sales\":56.32},{\"Name\":\"Isla\",\"Age\":37.0,\"Sales\":43.44444}]\n"
     ]
    }
   ],
   "source": [
    "# Records Format; More conventional\n",
    "print(df.to_json(orient='records'))"
   ]
  },
  {
   "cell_type": "code",
   "execution_count": 5,
   "id": "c5c90f15-fc94-4503-a531-70b6c2ab675f",
   "metadata": {},
   "outputs": [
    {
     "name": "stdout",
     "output_type": "stream",
     "text": [
      "{\"0\":{\"Name\":\"Nik\",\"Age\":33.0,\"Sales\":33.33},\"1\":{\"Name\":\"Kate\",\"Age\":null,\"Sales\":56.32},\"2\":{\"Name\":\"Isla\",\"Age\":37.0,\"Sales\":43.44444}}\n"
     ]
    }
   ],
   "source": [
    "# Index Orient\n",
    "print(df.to_json(orient='index'))"
   ]
  },
  {
   "cell_type": "code",
   "execution_count": 6,
   "id": "6ce92644-db33-40e4-8d80-759f253c0fff",
   "metadata": {},
   "outputs": [
    {
     "name": "stdout",
     "output_type": "stream",
     "text": [
      "{\"Name\":{\"0\":\"Nik\",\"1\":\"Kate\",\"2\":\"Isla\"},\"Age\":{\"0\":33.0,\"1\":null,\"2\":37.0},\"Sales\":{\"0\":33.33,\"1\":56.32,\"2\":43.44444}}\n"
     ]
    }
   ],
   "source": [
    "# Columns Orient\n",
    "print(df.to_json(orient='columns'))"
   ]
  },
  {
   "cell_type": "code",
   "execution_count": 7,
   "id": "703c877a-7814-4608-930d-7a5162044a13",
   "metadata": {},
   "outputs": [
    {
     "name": "stdout",
     "output_type": "stream",
     "text": [
      "[[\"Nik\",33.0,33.33],[\"Kate\",null,56.32],[\"Isla\",37.0,43.44444]]\n"
     ]
    }
   ],
   "source": [
    "# Values Orient; Like a matrix\n",
    "print(df.to_json(orient='values'))"
   ]
  },
  {
   "cell_type": "code",
   "execution_count": 8,
   "id": "cd2e7321-62eb-4659-9d8c-a5c6a5e653d7",
   "metadata": {},
   "outputs": [
    {
     "name": "stdout",
     "output_type": "stream",
     "text": [
      "{\"schema\":{\"fields\":[{\"name\":\"index\",\"type\":\"integer\"},{\"name\":\"Name\",\"type\":\"string\"},{\"name\":\"Age\",\"type\":\"number\"},{\"name\":\"Sales\",\"type\":\"number\"}],\"primaryKey\":[\"index\"],\"pandas_version\":\"1.4.0\"},\"data\":[{\"index\":0,\"Name\":\"Nik\",\"Age\":33.0,\"Sales\":33.33},{\"index\":1,\"Name\":\"Kate\",\"Age\":null,\"Sales\":56.32},{\"index\":2,\"Name\":\"Isla\",\"Age\":37.0,\"Sales\":43.44444}]}\n"
     ]
    }
   ],
   "source": [
    "# Tables Orient\n",
    "print(df.to_json(orient='table'))"
   ]
  },
  {
   "cell_type": "code",
   "execution_count": 9,
   "id": "a01886ca-1ff5-4f1c-8e13-019f57b42e0e",
   "metadata": {},
   "outputs": [
    {
     "name": "stdout",
     "output_type": "stream",
     "text": [
      "{\"columns\":[\"Name\",\"Age\",\"Sales\"],\"data\":[[\"Nik\",33.0,33.33],[\"Kate\",null,56.32],[\"Isla\",37.0,43.44444]]}\n"
     ]
    }
   ],
   "source": [
    "# Split Orient\n",
    "print(df.to_json(orient='split', index=False))"
   ]
  }
 ],
 "metadata": {
  "kernelspec": {
   "display_name": "Python 3 (ipykernel)",
   "language": "python",
   "name": "python3"
  },
  "language_info": {
   "codemirror_mode": {
    "name": "ipython",
    "version": 3
   },
   "file_extension": ".py",
   "mimetype": "text/x-python",
   "name": "python",
   "nbconvert_exporter": "python",
   "pygments_lexer": "ipython3",
   "version": "3.11.4"
  }
 },
 "nbformat": 4,
 "nbformat_minor": 5
}
