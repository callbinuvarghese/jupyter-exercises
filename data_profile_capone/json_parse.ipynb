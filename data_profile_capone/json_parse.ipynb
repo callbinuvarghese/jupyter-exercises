{
 "cells": [
  {
   "cell_type": "code",
   "execution_count": 20,
   "id": "0f6aff65-d81f-4bd2-a09a-2852ca349823",
   "metadata": {},
   "outputs": [],
   "source": [
    "import json"
   ]
  },
  {
   "cell_type": "markdown",
   "id": "4b9ac2eb-7335-4dd9-836b-cb69b6efcd6e",
   "metadata": {},
   "source": [
    "# JSON parsing python"
   ]
  },
  {
   "cell_type": "code",
   "execution_count": 21,
   "id": "6ba12b57-823c-4673-9b97-a40979986e28",
   "metadata": {},
   "outputs": [],
   "source": [
    "json_string = \"\"\"\n",
    "{\n",
    "    \"name\": \"John Doe\",\n",
    "    \"age\": 32,\n",
    "    \"address\": {\n",
    "        \"street\": \"123 Main St\",\n",
    "        \"city\": \"Anytown\",\n",
    "        \"state\": \"CA\"\n",
    "    },\n",
    "    \"tags\": [\"Finance\", \"Admin\"]\n",
    "}\n",
    "\"\"\""
   ]
  },
  {
   "cell_type": "code",
   "execution_count": 22,
   "id": "7daffc94-fac6-492b-8da7-e0d4ab7d5686",
   "metadata": {},
   "outputs": [
    {
     "name": "stdout",
     "output_type": "stream",
     "text": [
      "123 Main St\n"
     ]
    }
   ],
   "source": [
    "parsed_json = json.loads(json_string)\n",
    "print(parsed_json[\"address\"][\"street\"])"
   ]
  },
  {
   "cell_type": "markdown",
   "id": "8a22588e-93b0-4480-a0bc-021d879ac60e",
   "metadata": {},
   "source": [
    "# Python Class Serialize/Deserialize in Python"
   ]
  },
  {
   "cell_type": "code",
   "execution_count": 73,
   "id": "40bf1ae5-6178-4c98-8778-f3fb2488fb94",
   "metadata": {},
   "outputs": [
    {
     "name": "stdout",
     "output_type": "stream",
     "text": [
      "{\"name\": \"Yasoob Khalid\", \"age\": 33, \"tags\": [\"Finance\"], \"address\": {\"street\": \"123 Main St\", \"city\": \"Anytown\", \"state\": \"CA\"}}\n",
      "Type: <class 'dict'>\n",
      "{\"name\": \"Yasoob Khalid\", \"age\": 33, \"tags\": [\"Finance\"], \"address\": {\"street\": \"123 Main St\", \"city\": \"Anytown\", \"state\": \"CA\"}}\n"
     ]
    }
   ],
   "source": [
    "class CustomProfile:\n",
    "    def __init__(self, name, age, tags, address):\n",
    "        self.name = name\n",
    "        self.age = age\n",
    "        self.tags = tags\n",
    "        self.address = address\n",
    "        \n",
    "class Address:\n",
    "    def __init__(self, street, city, state):\n",
    "        self.street = street\n",
    "        self.city = city\n",
    "        self.state = state\n",
    "        \n",
    "class CustomProfileEncoder(JSONEncoder):\n",
    "        def default(self, o):\n",
    "            return o.__dict__\n",
    "\n",
    "class ProfileEncoder(json.JSONEncoder):\n",
    "    def default(self, custom_obj):\n",
    "        if isinstance(custom_obj, CustomProfile):\n",
    "            return custom_obj.__dict__\n",
    "        else:\n",
    "            return super().default(custom_obj)\n",
    "address = Address(\"123 Main St\", \"Anytown\", \"CA\")\n",
    "profile = CustomProfile(\"Yasoob Khalid\", 33, [\"Finance\"],address)\n",
    "with open(\"new_profile.json\", \"w\") as f:\n",
    "    # Serialization\n",
    "    json.dump(profile, f, cls=CustomProfileEncoder)\n",
    "print(CustomProfileEncoder().encode(profile))\n",
    "\n",
    "# Deserialization\n",
    "with open(\"new_profile.json\") as json_file:\n",
    "    data = json.load(json_file)\n",
    " \n",
    "    # Json Load above make it a Dict\n",
    "    print(\"Type:\", type(data))\n",
    "    print(CustomProfileEncoder().encode(data))\n"
   ]
  },
  {
   "cell_type": "code",
   "execution_count": 69,
   "id": "e93cad1f-fd88-4537-a7f7-3634ce676d55",
   "metadata": {},
   "outputs": [
    {
     "name": "stdout",
     "output_type": "stream",
     "text": [
      "{'name': 'Yasoob Khalid', 'age': 33, 'tags': ['Finance'], 'address': {'street': '123 Main St', 'city': 'Anytown', 'state': 'CA'}}\n",
      "{\"name\": \"Yasoob Khalid\", \"age\": 33, \"tags\": [\"Finance\"], \"address\": {\"street\": \"123 Main St\", \"city\": \"Anytown\", \"state\": \"CA\"}}\n"
     ]
    }
   ],
   "source": [
    "import pandas as pd\n",
    "text_file = open(\"new_profile.json\", \"r\")\n",
    " \n",
    "#read whole file to a string\n",
    "profileJSONData = text_file.read()\n",
    "profile = json.loads(profileJSONData)\n",
    "print(profile)\n",
    "print(CustomProfileEncoder().encode(profile))"
   ]
  },
  {
   "cell_type": "code",
   "execution_count": 24,
   "id": "597ec12c-3ee3-4984-8540-63c0dbaac1fd",
   "metadata": {},
   "outputs": [
    {
     "name": "stdout",
     "output_type": "stream",
     "text": [
      "Printing to check how it will look like\n",
      "{\"name\": \"John\", \"salary\": 9000, \"address\": {\"city\": \"Alpharetta\", \"street\": \"7258 Spring Street\", \"pin\": \"30004\"}}\n",
      "Encode Employee Object into JSON formatted Data using custom JSONEncoder\n",
      "{\n",
      "    \"name\": \"John\",\n",
      "    \"salary\": 9000,\n",
      "    \"address\": {\n",
      "        \"city\": \"Alpharetta\",\n",
      "        \"street\": \"7258 Spring Street\",\n",
      "        \"pin\": \"30004\"\n",
      "    }\n",
      "}\n",
      "Decode JSON formatted Data\n",
      "{'name': 'John', 'salary': 9000, 'address': {'city': 'Alpharetta', 'street': '7258 Spring Street', 'pin': '30004'}}\n"
     ]
    }
   ],
   "source": [
    "import json\n",
    "from json import JSONEncoder\n",
    "\n",
    "class Employee:\n",
    "    def __init__(self, name, salary, address):\n",
    "        self.name = name\n",
    "        self.salary = salary\n",
    "        self.address = address\n",
    "\n",
    "class Address:\n",
    "    def __init__(self, city, street, pin):\n",
    "        self.city = city\n",
    "        self.street = street\n",
    "        self.pin = pin\n",
    "\n",
    "# subclass JSONEncoder\n",
    "class EmployeeEncoder(json.JSONEncoder):\n",
    "        def default(self, o):\n",
    "            return o.__dict__\n",
    "\n",
    "address = Address(\"Alpharetta\", \"7258 Spring Street\", \"30004\")\n",
    "employee = Employee(\"John\", 9000, address)\n",
    "\n",
    "print(\"Printing to check how it will look like\")\n",
    "print(EmployeeEncoder().encode(employee))\n",
    "\n",
    "print(\"Encode Employee Object into JSON formatted Data using custom JSONEncoder\")\n",
    "# Serialization\n",
    "employeeJSONData = json.dumps(employee, indent=4, cls=EmployeeEncoder)\n",
    "print(employeeJSONData)\n",
    "\n",
    "# Let's load it using the load method to check if we can decode it or not.\n",
    "print(\"Decode JSON formatted Data\")\n",
    "# DeSerialization\n",
    "employeeJSON = json.loads(employeeJSONData)\n",
    "print(employeeJSON)"
   ]
  },
  {
   "cell_type": "markdown",
   "id": "29dd43ab-5dd8-4481-9f97-80efb9063b1a",
   "metadata": {},
   "source": [
    "# Dataframe read JSON"
   ]
  },
  {
   "cell_type": "code",
   "execution_count": 25,
   "id": "67e988c1-5997-4c77-a209-686a8291bf83",
   "metadata": {},
   "outputs": [
    {
     "name": "stdout",
     "output_type": "stream",
     "text": [
      "\n",
      "{\n",
      "\"technologies\":\n",
      "         [\n",
      "         { \"Courses\": \"Spark\", \"Fee\": 22000,\"Duration\":\"40Days\"},\n",
      "         { \"Courses\": \"PySpark\",\"Fee\": 25000,\"Duration\":\"60Days\"},\n",
      "         { \"Courses\": \"Hadoop\", \"Fee\": 23000,\"Duration\":\"50Days\"}\n",
      "         ],\n",
      "\"status\": [\"ok\"]\n",
      "}\n",
      "\n"
     ]
    }
   ],
   "source": [
    "import pandas as pd\n",
    "import json\n",
    "from pandas import json_normalize\n",
    "data = '''\n",
    "{\n",
    "\"technologies\":\n",
    "         [\n",
    "         { \"Courses\": \"Spark\", \"Fee\": 22000,\"Duration\":\"40Days\"},\n",
    "         { \"Courses\": \"PySpark\",\"Fee\": 25000,\"Duration\":\"60Days\"},\n",
    "         { \"Courses\": \"Hadoop\", \"Fee\": 23000,\"Duration\":\"50Days\"}\n",
    "         ],\n",
    "\"status\": [\"ok\"]\n",
    "}\n",
    "'''\n",
    "print(data)"
   ]
  },
  {
   "cell_type": "code",
   "execution_count": 26,
   "id": "f9c9a910-0c8f-4011-b551-c1d88458cc0c",
   "metadata": {},
   "outputs": [
    {
     "name": "stdout",
     "output_type": "stream",
     "text": [
      "   Courses    Fee Duration\n",
      "0    Spark  22000   40Days\n",
      "1  PySpark  25000   60Days\n",
      "2   Hadoop  23000   50Days\n"
     ]
    }
   ],
   "source": [
    "# Use json_normalize() to convert JSON to DataFrame\n",
    "dict = json.loads(data)\n",
    "df2 = json_normalize(dict['technologies']) \n",
    "print(df2)\n"
   ]
  },
  {
   "cell_type": "markdown",
   "id": "3a1aed8a-8969-4133-af7e-196ac18d7dc8",
   "metadata": {},
   "source": [
    "# Orient Indexed data"
   ]
  },
  {
   "cell_type": "code",
   "execution_count": 27,
   "id": "b33fdfa3-0f5d-492f-92f0-41231a0841c1",
   "metadata": {},
   "outputs": [
    {
     "name": "stdout",
     "output_type": "stream",
     "text": [
      "       Courses  Discount\n",
      "Index0  Pandas      1200\n",
      "Index1  Hadoop      1500\n",
      "Index2   Spark      1800\n"
     ]
    }
   ],
   "source": [
    "import pandas as pd\n",
    "jsonStr = '''{\"Index0\":{\"Courses\": \"Pandas\",\"Discount\": \"1200\"},\n",
    "           \"Index1\":{\"Courses\": \"Hadoop\",\"Discount\": \"1500\"},\n",
    "           \"Index2\":{\"Courses\": \"Spark\",\"Discount\": \"1800\"}\n",
    "          }'''\n",
    "# Convert JSON to DataFrame Using read_json()\n",
    "df2 = pd.read_json(jsonStr, orient ='index')\n",
    "print(df2)"
   ]
  },
  {
   "cell_type": "markdown",
   "id": "f4a8f08d-4e70-4fce-8616-13f0cb5b56f4",
   "metadata": {},
   "source": [
    "# Orient Name Value Pair\n",
    "# Create a DataFrame from the dict object where keys from the dict are used as an index"
   ]
  },
  {
   "cell_type": "code",
   "execution_count": 46,
   "id": "617674e6-76ce-4f12-b40f-59cda8563fea",
   "metadata": {},
   "outputs": [
    {
     "name": "stdout",
     "output_type": "stream",
     "text": [
      "               0\n",
      "Courses    Spark\n",
      "Fee        22000\n",
      "Duration  40Days\n",
      "The Column Header : [0]\n",
      "Courses      Spark\n",
      "Fee          22000\n",
      "Duration    40Days\n",
      "Name: 0, dtype: object\n",
      "22000\n",
      "RangeIndex(start=0, stop=5, step=1)\n",
      "[0, 1, 2, 3, 4]\n"
     ]
    }
   ],
   "source": [
    "# Use DataFrame.from_dict() to Convert JSON to DataFrame\n",
    "import pandas as pd\n",
    "import json\n",
    "from pandas import json_normalize\n",
    "json_string = '{ \"Courses\": \"Spark\", \"Fee\": 22000,\"Duration\":\"40Days\"}'\n",
    "data = json.loads(json_string)\n",
    "\n",
    "# Use pandas.DataFrame.from_dict() to Convert JSON to DataFrame\n",
    "df2 = pd.DataFrame.from_dict(data, orient=\"index\")\n",
    "print(df2)\n",
    "# Get the list of all column names from headers\n",
    "column_headers = list(df2.columns.values)\n",
    "print(\"The Column Header :\", column_headers)\n",
    "# Column metadata\n",
    "print(df2[0])\n",
    "# 2nd Value of first column\n",
    "print(df2[0][1])\n",
    "print(df.index)\n",
    "print(df.index.tolist())"
   ]
  },
  {
   "cell_type": "code",
   "execution_count": 36,
   "id": "db8d9faa-8edc-41e5-b0ad-b4679f77cdb9",
   "metadata": {},
   "outputs": [
    {
     "name": "stdout",
     "output_type": "stream",
     "text": [
      "   Courses    Fee Duration  Discount\n",
      "0    Spark  22000   30days      1000\n",
      "1  PySpark  25000   50days      2300\n",
      "2   Hadoop  23000   30days      1000\n",
      "3   Python  24000     None      1200\n",
      "4   Pandas  26000      NaN      2500\n",
      "The Column Header : ['Courses', 'Fee', 'Duration', 'Discount']\n",
      "The Column Header 1: ['Courses', 'Fee', 'Duration', 'Discount']\n",
      "The Column Header 2: ['Courses', 'Fee', 'Duration', 'Discount']\n",
      "The Column Header 3: ['Courses', 'Fee', 'Duration', 'Discount']\n",
      "The Column Header 4: ['Courses', 'Discount', 'Duration', 'Fee']\n",
      "Courses\n",
      "Fee\n",
      "Duration\n",
      "Discount\n",
      "The Column Header : ['Courses', 'Fee', 'Duration', 'Discount']\n",
      "['Fee', 'Discount']\n",
      "['Fee', 'Discount']\n"
     ]
    }
   ],
   "source": [
    "\n",
    "import pandas as pd\n",
    "import numpy as np\n",
    "\n",
    "technologies= {\n",
    "    'Courses':[\"Spark\",\"PySpark\",\"Hadoop\",\"Python\",\"Pandas\"],\n",
    "    'Fee' :[22000,25000,23000,24000,26000],\n",
    "    'Duration':['30days','50days','30days', None,np.nan],\n",
    "    'Discount':[1000,2300,1000,1200,2500]\n",
    "          }\n",
    "df = pd.DataFrame(technologies)\n",
    "print(df)\n",
    "\n",
    "# Get the list of all column names from headers\n",
    "column_headers = list(df.columns.values)\n",
    "print(\"The Column Header :\", column_headers)\n",
    "\n",
    "# Get the list of all column names from headers\n",
    "column_headers = df.columns.values.tolist()\n",
    "print(\"The Column Header 1:\", column_headers)\n",
    "\n",
    "# Using list(df) to get the column headers as a list\n",
    "column_headers = list(df.columns)\n",
    "print(\"The Column Header 2:\", column_headers)\n",
    "\n",
    "# Using list(df) to get the list of all Column Names\n",
    "column_headers = list(df)\n",
    "print(\"The Column Header 3:\", column_headers)\n",
    "\n",
    "# Dataframe show all columns sorted list\n",
    "col_headers=sorted(df)\n",
    "print(\"The Column Header 4:\",col_headers)\n",
    "\n",
    "# Get all Column Header Labels as List\n",
    "for column_headers in df.columns: \n",
    "    print(column_headers)\n",
    "    \n",
    "column_headers = df.keys().values.tolist()\n",
    "print(\"The Column Header :\", column_headers)\n",
    "\n",
    "# Get all numeric columns\n",
    "numeric_columns = df._get_numeric_data().columns.values.tolist()\n",
    "print(numeric_columns)\n",
    "\n",
    "# Simple Pandas Numeric Columns Code\n",
    "numeric_columns=df.dtypes[df.dtypes == \"int64\"].index.values.tolist()\n",
    "print(numeric_columns)\n",
    "\n"
   ]
  },
  {
   "cell_type": "markdown",
   "id": "4f292ab5-4d1e-48cb-9a05-26c13f642b1d",
   "metadata": {},
   "source": [
    "Loading data from python arrays"
   ]
  },
  {
   "cell_type": "code",
   "execution_count": 49,
   "id": "0886f793-9ae8-4771-af74-885be8f8bd73",
   "metadata": {},
   "outputs": [
    {
     "name": "stdout",
     "output_type": "stream",
     "text": [
      "DataFrame:\n",
      "            from             to  duration  distance               through  \\\n",
      "0       San Jose  Mountain View        17      13.6              US-101 N   \n",
      "1  Mountain View       Milpitas        13      11.2              CA-237 E   \n",
      "2       Milpitas       San Jose        13       8.0  (I-880 S, N 10th St)   \n",
      "3       San Jose      Los Gatos        16      10.9    (I-280 N, CA-17 S)   \n",
      "4      Los Gatos      Cupertino        12       8.7               CA-85 N   \n",
      "\n",
      "        start  \n",
      "0  1621602000  \n",
      "1  1621603200  \n",
      "2  1621604100  \n",
      "3  1621605300  \n",
      "4  1621606500  \n",
      "DataFrame as JSON string:\n",
      "[{\"from\":\"San Jose\",\"to\":\"Mountain View\",\"duration\":17,\"distance\":13.6,\"through\":\"US-101 N\",\"start\":1621602000},{\"from\":\"Mountain View\",\"to\":\"Milpitas\",\"duration\":13,\"distance\":11.2,\"through\":\"CA-237 E\",\"start\":1621603200},{\"from\":\"Milpitas\",\"to\":\"San Jose\",\"duration\":13,\"distance\":8.0,\"through\":[\"I-880 S\",\"N 10th St\"],\"start\":1621604100},{\"from\":\"San Jose\",\"to\":\"Los Gatos\",\"duration\":16,\"distance\":10.9,\"through\":[\"I-280 N\",\"CA-17 S\"],\"start\":1621605300},{\"from\":\"Los Gatos\",\"to\":\"Cupertino\",\"duration\":12,\"distance\":8.7,\"through\":\"CA-85 N\",\"start\":1621606500}]\n"
     ]
    }
   ],
   "source": [
    "# Example Python program that makes a JSON\n",
    "# string from a pandas DataFrame object\n",
    "\n",
    "# Field names\n",
    "tripFields = (\"from\", \"to\", \"duration\", \"distance\", \"through\", \"start\");\n",
    "\n",
    "# Data\n",
    "trips   = ((\"San Jose\", \"Mountain View\", 17, 13.6, \"US-101 N\", 1621602000),\n",
    "           (\"Mountain View\", \"Milpitas\", 13, 11.2, \"CA-237 E\", 1621603200),\n",
    "           (\"Milpitas\", \"San Jose\", 13, 8.0, (\"I-880 S\", \"N 10th St\"), 1621604100),\n",
    "           (\"San Jose\", \"Los Gatos\", 16, 10.9, (\"I-280 N\", \"CA-17 S\"), 1621605300),\n",
    "           (\"Los Gatos\", \"Cupertino\", 12, 8.7, \"CA-85 N\", 1621606500));\n",
    "\n",
    "# Create a pandas DataFrame\n",
    "tripData = pd.DataFrame(data=trips, columns=tripFields);\n",
    "print(\"DataFrame:\");\n",
    "print(tripData);\n",
    "\n",
    "# Convert the pandas DataFrame object to a JSON string\n",
    "jsonString = tripData.to_json(orient=\"records\");\n",
    "print(\"DataFrame as JSON string:\");\n",
    "print(jsonString);"
   ]
  },
  {
   "cell_type": "code",
   "execution_count": 64,
   "id": "08bca2dc-8c7b-462f-a3b4-2726220d0849",
   "metadata": {},
   "outputs": [
    {
     "name": "stdout",
     "output_type": "stream",
     "text": [
      "{\n",
      "    \"students\": [\n",
      "        {\n",
      "            \"first_name\": \"Geeky\",\n",
      "            \"last_name\": \"Guy\"\n",
      "        },\n",
      "        {\n",
      "            \"first_name\": \"GFG\",\n",
      "            \"last_name\": \"Rocks\"\n",
      "        }\n",
      "    ]\n",
      "}\n",
      "Geeky\n"
     ]
    }
   ],
   "source": [
    "from typing import List\n",
    "import json\n",
    " \n",
    " \n",
    "class Student(object):\n",
    "    def __init__(self, first_name: str, last_name: str):\n",
    "        self.first_name = first_name\n",
    "        self.last_name = last_name\n",
    " \n",
    " \n",
    "class Team(object):\n",
    "    def __init__(self, students: List[Student]):\n",
    "        self.students = students\n",
    " \n",
    " \n",
    "student1 = Student(first_name=\"Geeky\", last_name=\"Guy\")\n",
    "student2 = Student(first_name=\"GFG\", last_name=\"Rocks\")\n",
    "team = Team(students=[student1, student2])\n",
    " \n",
    "# Serialization\n",
    "json_data = json.dumps(team, default=lambda o: o.__dict__, indent=4)\n",
    "print(json_data)\n",
    " \n",
    "# Deserialization\n",
    "decoded_team = Team(**json.loads(json_data))\n",
    "print(decoded_team.students[0]['first_name'])"
   ]
  }
 ],
 "metadata": {
  "kernelspec": {
   "display_name": "Python 3 (ipykernel)",
   "language": "python",
   "name": "python3"
  },
  "language_info": {
   "codemirror_mode": {
    "name": "ipython",
    "version": 3
   },
   "file_extension": ".py",
   "mimetype": "text/x-python",
   "name": "python",
   "nbconvert_exporter": "python",
   "pygments_lexer": "ipython3",
   "version": "3.11.4"
  }
 },
 "nbformat": 4,
 "nbformat_minor": 5
}
